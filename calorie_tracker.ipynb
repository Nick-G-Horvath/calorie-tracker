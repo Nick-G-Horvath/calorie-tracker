{
  "nbformat": 4,
  "nbformat_minor": 0,
  "metadata": {
    "colab": {
      "name": "calorie-tracker.ipynb",
      "provenance": [],
      "collapsed_sections": []
    },
    "kernelspec": {
      "name": "python3",
      "display_name": "Python 3"
    }
  },
  "cells": [
    {
      "cell_type": "code",
      "metadata": {
        "id": "wFSNBdJUaKFa",
        "colab_type": "code",
        "outputId": "fcfeaff5-fc34-4d27-a74b-851ee0864ec7",
        "colab": {
          "base_uri": "https://localhost:8080/",
          "height": 163
        }
      },
      "source": [
        "!pip install mip"
      ],
      "execution_count": 0,
      "outputs": [
        {
          "output_type": "stream",
          "text": [
            "Collecting mip\n",
            "\u001b[?25l  Downloading https://files.pythonhosted.org/packages/3b/26/fa2c6ea0509c63e60a0b601d027bc87ff24949e862aa69ae0282b646e172/mip-1.7.2-py3-none-any.whl (11.8MB)\n",
            "\u001b[K     |████████████████████████████████| 11.8MB 2.5MB/s \n",
            "\u001b[?25hRequirement already satisfied: cffi in /usr/local/lib/python3.6/dist-packages (from mip) (1.14.0)\n",
            "Requirement already satisfied: pycparser in /usr/local/lib/python3.6/dist-packages (from cffi->mip) (2.19)\n",
            "Installing collected packages: mip\n",
            "Successfully installed mip-1.7.2\n"
          ],
          "name": "stdout"
        }
      ]
    },
    {
      "cell_type": "code",
      "metadata": {
        "id": "HZoGNxqnGWsI",
        "colab_type": "code",
        "outputId": "77d46ec2-6da0-42eb-d446-d33b56c24379",
        "colab": {
          "base_uri": "https://localhost:8080/",
          "height": 35
        }
      },
      "source": [
        "import math\n",
        "import numpy as np\n",
        "from numpy.linalg import inv\n",
        "import pandas as pd\n",
        "from scipy.optimize import linprog\n",
        "import itertools\n",
        "from mip import Model, xsum, maximize, BINARY, INTEGER\n",
        "\n",
        "import matplotlib.pyplot as plt\n",
        "%matplotlib inline\n",
        "\n",
        "#import warnings\n",
        "#warnings.filterwarnings('ignore')\n",
        "\n",
        "#import io\n",
        "#from google.colab import files"
      ],
      "execution_count": 0,
      "outputs": [
        {
          "output_type": "stream",
          "text": [
            "Using Python-MIP package version 1.7.2\n"
          ],
          "name": "stdout"
        }
      ]
    },
    {
      "cell_type": "code",
      "metadata": {
        "id": "Qx3EwCw6RbxW",
        "colab_type": "code",
        "colab": {}
      },
      "source": [
        "class Macros():\n",
        "    def __init__(self, carbs, fat, protein, calories=None, name=None):\n",
        "      self.name = name\n",
        "      # If macros are supplied in grams as integers, calculate calories from macros (any calories argument will be ignored)\n",
        "      if type(carbs) == int and type(fat) == int and type(protein) == int:\n",
        "        self.carbs = carbs\n",
        "        self.fat = fat\n",
        "        self.protein = protein\n",
        "        self.calories = int(round(self.carbs*4 + self.fat*9 + self.protein*4))\n",
        "      # If macros are supplied in percentages as floats, calculate macros from calories\n",
        "      elif type(carbs) == float and carbs >= 0 and carbs <= 1\\\n",
        "          and type(fat) == float and fat >= 0 and fat <= 1\\\n",
        "          and type(protein) == float and protein >= 0 and protein <= 1\\\n",
        "          and round(carbs+fat+protein, 3) == 1.0 and not pd.isnull(calories):\n",
        "        self.carbs = round(calories*carbs/4, 1)\n",
        "        self.fat = round(calories*fat/9, 1)\n",
        "        self.protein = round(calories*protein/4, 1)\n",
        "        self.calories = int(round(calories))\n",
        "      # Otherwise, raise an error\n",
        "      else:\n",
        "        raise ValueError('Macros must be specified:\\n\\\n",
        "        In grams as integers (in which case the calories argument is ignored), or\\n\\\n",
        "        In percentages as floats (which must sum to 1.0), and calories must also be supplied')\n",
        "\n",
        "    @property\n",
        "    def carbs(self):\n",
        "      return self._carbs\n",
        "    @carbs.setter\n",
        "    def carbs(self, carbs):\n",
        "      if carbs < 0:\n",
        "        raise ValueError('Carbs cannot be negative')\n",
        "      self._carbs = carbs\n",
        "\n",
        "    @property\n",
        "    def fat(self):\n",
        "      return self._fat\n",
        "    @fat.setter\n",
        "    def fat(self, fat):\n",
        "      if fat < 0:\n",
        "        raise ValueError('Fat cannot be negative')\n",
        "      self._fat = fat\n",
        "\n",
        "    @property\n",
        "    def protein(self):\n",
        "      return self._protein\n",
        "    @protein.setter\n",
        "    def protein(self, protein):\n",
        "      if protein < 0:\n",
        "        raise ValueError('Protein cannot be negative')\n",
        "      self._protein = protein\n",
        "\n",
        "    def __add__(self, other):\n",
        "      output = Macros(carbs = 1, fat = 1, protein = 1, calories = np.nan)\n",
        "      output.carbs = round(self.carbs + other.carbs, 1)\n",
        "      output.fat = round(self.fat + other.fat, 1)\n",
        "      output.protein = round(self.protein + other.protein, 1)\n",
        "      output.calories = int(round(self.calories  +other.calories))\n",
        "      return output\n",
        "\n",
        "    def __sub__(self, other):\n",
        "      output = Macros(carbs = 1, fat = 1, protein = 1, calories = np.nan)\n",
        "      output.carbs = round(self.carbs - other.carbs, 1)\n",
        "      output.fat = round(self.fat - other.fat, 1)\n",
        "      output.protein = round(self.protein - other.protein, 1)\n",
        "      output.calories = int(round(self.calories - other.calories))\n",
        "      return output\n",
        "\n",
        "    def __mul__(self, other):\n",
        "      output = Macros(carbs = 1, fat = 1, protein = 1, calories = np.nan)\n",
        "      output.carbs = round(self.carbs*other, 1)\n",
        "      output.fat = round(self.fat*other, 1)\n",
        "      output.protein = round(self.protein*other, 1)\n",
        "      output.calories = int(round(self.calories*other))\n",
        "      return output\n",
        "    __rmul__ = __mul__\n",
        "\n",
        "    # True division assumes that other is a scalar, and returns a Macros object\n",
        "    def __truediv__(self, other):\n",
        "      output = Macros(carbs = 1, fat = 1, protein = 1, calories = np.nan)\n",
        "      output.carbs = round(self.carbs/other, 1)\n",
        "      output.fat = round(self.fat/other, 1)\n",
        "      output.protein = round(self.protein/other, 1)\n",
        "      output.calories = int(round(self.calories/other))\n",
        "      return output\n",
        "\n",
        "    # Floor division assumes that other is a Macros object, and returns an integer\n",
        "    def __floordiv__(self, other):\n",
        "      return int(min(self.carbs//max(other.carbs, 1e-4), self.fat//max(other.fat, 1e-4), self.protein//max(other.protein, 1e-4)))\n",
        "\n",
        "    def __eq__(self, other):\n",
        "      if self.carbs == other.carbs and self.fat == other.fat and self.protein == other.protein and self.calories == other.calories: \n",
        "        return True\n",
        "      else:\n",
        "        return False\n",
        "\n",
        "    def __ne__(self, other):\n",
        "      if self.carbs != other.carbs or self.fat != other.fat or self.protein != other.protein or self.calories != other.calories: \n",
        "        return True\n",
        "      else:\n",
        "        return False\n",
        "\n",
        "    def __le__(self, other):\n",
        "      if self.carbs <= other.carbs and self.fat <= other.fat and self.protein <= other.protein and self.calories <= other.calories: \n",
        "        return True\n",
        "      else:\n",
        "        return False\n",
        "\n",
        "    def __ge__(self, other):\n",
        "      if self.carbs >= other.carbs and self.fat >= other.fat and self.protein >= other.protein and self.calories >= other.calories: \n",
        "        return True\n",
        "      else:\n",
        "        return False\n",
        "\n",
        "    def __repr__(self):\n",
        "      if self.name is None:\n",
        "        return str(self.carbs) + ' grams of carbs, ' + str(self.fat) +\\\n",
        "               ' grams of fat, ' + str(self.protein) + ' grams of protein, and ' + str(self.calories) + ' calories.'\n",
        "      else:\n",
        "        return str(self.name).capitalize() + ': ' + str(self.carbs) + ' grams of carbs, ' + str(self.fat) +\\\n",
        "               ' grams of fat, ' + str(self.protein) + ' grams of protein, and ' + str(self.calories) + ' calories.'"
      ],
      "execution_count": 0,
      "outputs": []
    },
    {
      "cell_type": "code",
      "metadata": {
        "id": "7COqZQHhPGmJ",
        "colab_type": "code",
        "colab": {}
      },
      "source": [
        "class Food(Macros):\n",
        "    def __init__(self, carbs, fat, protein, calories=None, name='', serving=''):\n",
        "      Macros.__init__(self, carbs, fat, protein, calories, name)\n",
        "      self.serving = serving\n",
        "\n",
        "    @property\n",
        "    def calories(self):\n",
        "      return self._calories\n",
        "    @calories.setter\n",
        "    def calories(self, calories):\n",
        "      if calories < 5:\n",
        "          raise ValueError('Calories must be at least 5')\n",
        "      self._calories = calories"
      ],
      "execution_count": 0,
      "outputs": []
    },
    {
      "cell_type": "code",
      "metadata": {
        "id": "HehjhRBzMPNa",
        "colab_type": "code",
        "colab": {}
      },
      "source": [
        "broccoli = Food(name = 'Broccoli', carbs = .70, fat = 0.0, protein = .30, calories = 250)\n",
        "cabbage = Food(75, 0, 25, serving = '1 head')"
      ],
      "execution_count": 0,
      "outputs": []
    },
    {
      "cell_type": "code",
      "metadata": {
        "id": "jK5YXu_-Qo-T",
        "colab_type": "code",
        "outputId": "31d8b326-1c5e-423a-8838-af33e7d9056e",
        "colab": {
          "base_uri": "https://localhost:8080/",
          "height": 35
        }
      },
      "source": [
        "broccoli*2"
      ],
      "execution_count": 0,
      "outputs": [
        {
          "output_type": "execute_result",
          "data": {
            "text/plain": [
              "87.6 grams of carbs, 0.0 grams of fat, 37.6 grams of protein, and 500 calories."
            ]
          },
          "metadata": {
            "tags": []
          },
          "execution_count": 6
        }
      ]
    },
    {
      "cell_type": "code",
      "metadata": {
        "id": "63kV-LqFQsvN",
        "colab_type": "code",
        "outputId": "0459df52-f4cb-4b92-d3f8-0d8d813898a7",
        "colab": {
          "base_uri": "https://localhost:8080/",
          "height": 35
        }
      },
      "source": [
        "broccoli*2-cabbage"
      ],
      "execution_count": 0,
      "outputs": [
        {
          "output_type": "execute_result",
          "data": {
            "text/plain": [
              "12.6 grams of carbs, 0.0 grams of fat, 12.6 grams of protein, and 100 calories."
            ]
          },
          "metadata": {
            "tags": []
          },
          "execution_count": 7
        }
      ]
    },
    {
      "cell_type": "code",
      "metadata": {
        "id": "XR9WPIsiRQdP",
        "colab_type": "code",
        "outputId": "f1da8871-02f7-4b96-97c6-5a2cf58fa9f3",
        "colab": {
          "base_uri": "https://localhost:8080/",
          "height": 35
        }
      },
      "source": [
        "(broccoli+cabbage)*2-cabbage-cabbage-broccoli == broccoli"
      ],
      "execution_count": 0,
      "outputs": [
        {
          "output_type": "execute_result",
          "data": {
            "text/plain": [
              "True"
            ]
          },
          "metadata": {
            "tags": []
          },
          "execution_count": 8
        }
      ]
    },
    {
      "cell_type": "code",
      "metadata": {
        "id": "Vv0bu-peTQ_5",
        "colab_type": "code",
        "outputId": "9f9782af-b5af-41e2-ee56-ca9e47a252d5",
        "colab": {
          "base_uri": "https://localhost:8080/",
          "height": 35
        }
      },
      "source": [
        "(broccoli+cabbage)*2-cabbage*1.9-0.1*cabbage-broccoli == broccoli"
      ],
      "execution_count": 0,
      "outputs": [
        {
          "output_type": "execute_result",
          "data": {
            "text/plain": [
              "True"
            ]
          },
          "metadata": {
            "tags": []
          },
          "execution_count": 9
        }
      ]
    },
    {
      "cell_type": "code",
      "metadata": {
        "id": "QGhUMsih9iu7",
        "colab_type": "code",
        "colab": {}
      },
      "source": [
        "broccoli = Food(.70, 0.0, .30, calories = 250, serving = '1 crown', name = 'Broccoli')\n",
        "cabbage = Food(.75, 0.0, .25, calories = 400, serving = '1 head', name = 'Cabbage')\n",
        "onions = Food(.95, 0.0, .05, calories = 150, serving = '1 onion', name = 'Onions')\n",
        "potatoes = Food(1.0, 0.0, 0.0, calories = 250, serving = '1 potato', name = 'Potatoes')\n",
        "\n",
        "bananas = Food(1.0, 0.0, 0.0, calories = 100, serving = '1 banana', name = 'Bananas')\n",
        "apples = Food(.90, 0.0, .10, calories = 90, serving = '1 apple', name = 'Apples')\n",
        "blueberries = Food(.80, 0.0, .20, calories = 75, serving = '1 cup', name = 'Blueberries')\n",
        "avocados = Food(.25, .65, .10, calories = 270, serving = '1/2 avocado', name = 'Avocados')\n",
        "\n",
        "white_rice = Food(1.0, 0.0, 0.0, calories = 220, serving = '1 cup cooked', name = 'White rice')\n",
        "oats = Food(.80, .10, .10, calories = 170, serving = '1 cup cooked', name = 'Oats')\n",
        "white_bread = Food(.95, 0.0, .05, calories = 160, serving = '2 slices', name = 'White bread')\n",
        "multigrain_bread = Food(.70, .15, .15, calories = 220, serving = '2 slices', name = 'Multigrain bread')\n",
        "\n",
        "peanuts = Food(.15, .65, .20, calories = 140, serving = '1/4 cup', name = 'Peanuts')\n",
        "almonds = Food(.25, .55, .20, calories = 100, serving = '1/4 cup', name = 'Almonds')\n",
        "walnuts = Food(.20, .65, .15, calories = 120, serving = '1/4 cup', name = 'Walnuts')\n",
        "macadamia_nuts = Food(.10, .80, .10, calories = 160, serving = '1/4 cup', name = 'Macadamia nuts')\n",
        "\n",
        "skim_milk = Food(.60, 0.0, .40, calories = 90, serving = '1 cup', name = 'Skim milk')\n",
        "butter = Food(0.0, 1.0, 0.0, calories = 100, serving = '1 Tbsp', name = 'Butter')\n",
        "cheddar_cheese = Food(.10, .55, .35, calories = 100, serving = '1/2 cup shredded', name = 'Cheddar cheese')\n",
        "cottage_cheese = Food(.10, .25, .65, calories = 200, serving = '1 cup', name = 'Cottage cheese (lowfat)')\n",
        "\n",
        "ground_beef = Food(0.0, .55, .45, calories = 160, serving = '4 oz', name = 'Ground beef (80% lean)')\n",
        "chicken_breast = Food(0.0, .05, .95, calories = 110, serving = '4 oz', name = 'Chicken breast (skinless)')\n",
        "bacon = Food(0.0, .80, .20, calories = 90, serving = '3 slices', name = 'Bacon')\n",
        "eggs = Food(0.0, .40, .60, calories = 80, serving = '2 eggs', name = 'Eggs')\n",
        "\n",
        "salmon = Food(0.0, .25, .75, calories = 130, serving = '4 oz', name = 'Salmon (wild, with skin)')\n",
        "cod = Food(0.0, .05, .95, calories = 110, serving = '4 oz', name = 'Cod (wild, without skin)')\n",
        "shrimp = Food(0.0, 0.0, 1.0, calories = 100, serving = '4 oz', name = 'Shrimp')\n",
        "sardines = Food(0.0, .30, .70, calories = 160, serving = '1 can', name = 'Sardines')\n",
        "\n",
        "potato_chips = Food(.60, .40, 0.0, calories = 320, serving = '2 oz', name = 'Potato chips')\n",
        "candy_bar = Food(.70, .20, .10, calories = 320, serving = '1 bar', name = 'Candy bar')\n",
        "pepperoni_pizza = Food(.30, .45, .25, calories = 450, serving = '1 slice', name = 'Pepperoni pizza')\n",
        "ice_cream = Food(.50, .40, .10, calories = 170, serving = '1/2 cup', name = 'Ice cream')"
      ],
      "execution_count": 0,
      "outputs": []
    },
    {
      "cell_type": "code",
      "metadata": {
        "id": "qhizJEIaGfey",
        "colab_type": "code",
        "colab": {}
      },
      "source": [
        "library = [broccoli, cabbage, onions, potatoes, bananas, apples, blueberries,\n",
        "           avocados, white_rice, oats, white_bread, multigrain_bread, peanuts,\n",
        "           almonds, walnuts, macadamia_nuts, skim_milk, butter, cheddar_cheese,\n",
        "           cottage_cheese, ground_beef, chicken_breast,\n",
        "           bacon, eggs, salmon, cod, shrimp, sardines,\n",
        "           potato_chips, candy_bar, pepperoni_pizza, ice_cream]"
      ],
      "execution_count": 0,
      "outputs": []
    },
    {
      "cell_type": "code",
      "metadata": {
        "id": "3CgwhDwpcpLt",
        "colab_type": "code",
        "outputId": "cbbd7c9a-a95d-41da-99b5-7377ec4d253d",
        "colab": {
          "base_uri": "https://localhost:8080/",
          "height": 35
        }
      },
      "source": [
        "library[0]"
      ],
      "execution_count": 0,
      "outputs": [
        {
          "output_type": "execute_result",
          "data": {
            "text/plain": [
              "Broccoli: 43.8 grams of carbs, 0.0 grams of fat, 18.8 grams of protein, and 250 calories."
            ]
          },
          "metadata": {
            "tags": []
          },
          "execution_count": 12
        }
      ]
    },
    {
      "cell_type": "code",
      "metadata": {
        "id": "HZXnoRoxjDp-",
        "colab_type": "code",
        "colab": {}
      },
      "source": [
        "def unique(food_library):\n",
        "    '''\n",
        "    INPUT:\n",
        "    food_library - a list of food items, each of which is a Macros object (usually a Food object)\n",
        "\n",
        "    STEPS:\n",
        "    for each food, add to the list of unique foods if it is not already there\n",
        "\n",
        "    OUTPUT:\n",
        "    a list of unique food items, each of which is a Macros object (usually a Food object)\n",
        "    '''\n",
        "    unique_food_library = []\n",
        "    for food in food_library:\n",
        "      if food not in unique_food_library:\n",
        "        unique_food_library.append(food)\n",
        "    return unique_food_library"
      ],
      "execution_count": 0,
      "outputs": []
    },
    {
      "cell_type": "code",
      "metadata": {
        "id": "e821j_Krjw2V",
        "colab_type": "code",
        "outputId": "ae5ab28b-7d41-4d85-d19b-97246d57513e",
        "colab": {
          "base_uri": "https://localhost:8080/",
          "height": 89
        }
      },
      "source": [
        "unique([oats, peanuts, cod, cod, eggs])"
      ],
      "execution_count": 0,
      "outputs": [
        {
          "output_type": "execute_result",
          "data": {
            "text/plain": [
              "[Oats: 34.0 grams of carbs, 1.9 grams of fat, 4.2 grams of protein, and 170 calories.,\n",
              " Peanuts: 5.2 grams of carbs, 10.1 grams of fat, 7.0 grams of protein, and 140 calories.,\n",
              " Cod (wild, without skin): 0.0 grams of carbs, 0.6 grams of fat, 26.1 grams of protein, and 110 calories.,\n",
              " Eggs: 0.0 grams of carbs, 3.6 grams of fat, 12.0 grams of protein, and 80 calories.]"
            ]
          },
          "metadata": {
            "tags": []
          },
          "execution_count": 107
        }
      ]
    },
    {
      "cell_type": "code",
      "metadata": {
        "id": "lsAS_u7t1Dgj",
        "colab_type": "code",
        "colab": {}
      },
      "source": [
        "def calc_macros(food_library, solution):\n",
        "    '''\n",
        "    INPUT:\n",
        "    food_library - a list of Macros or Food objects containing the foods from which to draw possible combinations\n",
        "    solution - a list of numbers\n",
        "\n",
        "    STEPS:\n",
        "    For a list of Macros objects (food_library), calculate the sum weighted by a list of numbers (solution)\n",
        "\n",
        "    OUTPUT:\n",
        "    a Macros object that contains the weighted sum\n",
        "    '''\n",
        "    if len(food_library) > 0 and len(food_library) == len(solution):\n",
        "      macros = solution[0]*food_library[0]\n",
        "      for i in range(1, len(solution)):\n",
        "        macros += solution[i]*food_library[i]\n",
        "      return macros\n",
        "    else:\n",
        "      raise ValueError('food_library and solution must be non-empty and have the same length')"
      ],
      "execution_count": 0,
      "outputs": []
    },
    {
      "cell_type": "code",
      "metadata": {
        "id": "2tRaKW-o_xgr",
        "colab_type": "code",
        "outputId": "0645c420-bd5d-4b79-865d-960d867b7038",
        "colab": {
          "base_uri": "https://localhost:8080/",
          "height": 35
        }
      },
      "source": [
        "calc_macros(food_library, [1, 1, 1, 2])"
      ],
      "execution_count": 0,
      "outputs": [
        {
          "output_type": "execute_result",
          "data": {
            "text/plain": [
              "39.2 grams of carbs, 19.8 grams of fat, 61.3 grams of protein, and 580 calories."
            ]
          },
          "metadata": {
            "tags": []
          },
          "execution_count": 33
        }
      ]
    },
    {
      "cell_type": "code",
      "metadata": {
        "id": "BiPXhpk6wwxR",
        "colab_type": "code",
        "colab": {}
      },
      "source": [
        "def find_solution(food_library, goal):\n",
        "    '''\n",
        "    INPUT:\n",
        "    food_library - a list of Macros or Food objects containing the foods from which to draw possible combinations\n",
        "    goal - a Macros object within which food combinations must lie\n",
        "\n",
        "    STEPS:\n",
        "    Iterate through food objects in the order given in food_library. For each:\n",
        "      Calculate the maximum number of servings that fit within the goal using floor division\n",
        "      Reduce the goal by that many servings of that food\n",
        "\n",
        "    OUTPUT:\n",
        "    a list of integers that represents a possible combination of foods that fit within the goal,\n",
        "    specifically the solution that maximizes the first food first, then the second, and so on\n",
        "    '''\n",
        "    solution = [0]*len(food_library)\n",
        "    for i in range(len(food_library)):\n",
        "      solution[i] = goal//food_library[i]\n",
        "      goal -= solution[i]*food_library[i]\n",
        "    return solution"
      ],
      "execution_count": 0,
      "outputs": []
    },
    {
      "cell_type": "code",
      "metadata": {
        "id": "2iN3XZBACOru",
        "colab_type": "code",
        "outputId": "f9ab0350-b58c-44e2-df6d-0cb4f10eeee8",
        "colab": {
          "base_uri": "https://localhost:8080/",
          "height": 35
        }
      },
      "source": [
        "find_solution(food_library, goal)"
      ],
      "execution_count": 0,
      "outputs": [
        {
          "output_type": "execute_result",
          "data": {
            "text/plain": [
              "[5, 5, 3, 1]"
            ]
          },
          "metadata": {
            "tags": []
          },
          "execution_count": 52
        }
      ]
    },
    {
      "cell_type": "code",
      "metadata": {
        "id": "XKKtujx2caz4",
        "colab_type": "code",
        "colab": {}
      },
      "source": [
        "def print_solution(food_library, solution):\n",
        "    '''\n",
        "    INPUT:\n",
        "    food_library - a list of Macros or Food objects containing the foods from which to draw possible combinations\n",
        "    solution - a list of numbers that represents a possible combination of foods\n",
        "\n",
        "    STEPS:\n",
        "    Print the number of servings of each food item\n",
        "    Calculate the total macros and calories\n",
        "    Print the total macros and calories\n",
        "\n",
        "    OUTPUT:\n",
        "    None\n",
        "    '''\n",
        "    output_str = ''\n",
        "    # For each food, add a description of how many servings are present in the solution\n",
        "    for i in range(len(food_library)):\n",
        "      if solution[i] == 1:\n",
        "        output_str = output_str+str(solution[i])+' serving of '+str(food_library[i].name)+', '\n",
        "      else:\n",
        "        output_str = output_str+str(solution[i])+' servings of '+str(food_library[i].name)+', '\n",
        "    # Remove the final ', '\n",
        "    output_str = output_str[:-2]\n",
        "    # Print the description\n",
        "    print(output_str)\n",
        "    # Print the macros and calories\n",
        "    print(calc_macros(food_library, solution))\n",
        "    # Print blank line\n",
        "    print()\n",
        "    return None"
      ],
      "execution_count": 0,
      "outputs": []
    },
    {
      "cell_type": "code",
      "metadata": {
        "id": "Kkl05r7IdJBs",
        "colab_type": "code",
        "outputId": "e7a6775a-5bff-4e36-a29c-fc9a3315c2f9",
        "colab": {
          "base_uri": "https://localhost:8080/",
          "height": 71
        }
      },
      "source": [
        "print_solution(food_library, [5, 5, 3, 1])"
      ],
      "execution_count": 0,
      "outputs": [
        {
          "output_type": "stream",
          "text": [
            "5 servings of Oats, 5 servings of Peanuts, 3 servings of Cod (wild, without skin), 1 serving of Eggs\n",
            "196.0 grams of carbs, 65.4 grams of fat, 146.3 grams of protein, and 1960 calories.\n",
            "\n"
          ],
          "name": "stdout"
        }
      ]
    },
    {
      "cell_type": "code",
      "metadata": {
        "id": "cPigCdVW-1-I",
        "colab_type": "code",
        "colab": {}
      },
      "source": [
        "def find_next_solution(food_library, goal, previous_solution):\n",
        "    '''\n",
        "    INPUT:\n",
        "    food_library - a list of Macros or Food objects containing the foods from which to draw possible combinations\n",
        "    goal - a Macros object within which food combinations must lie\n",
        "    previous_solution - a list of integers that represents a possible combination of foods that fit within the goal\n",
        "\n",
        "    STEPS:\n",
        "    Remove the last element of previous_solution\n",
        "    Of what remains, find the last non-zero element and reduce it by 1\n",
        "    Set the resulting list of numbers as the beginning of the next solution\n",
        "    To find the remaining part of the next solution:\n",
        "      Reduce the goal by the existing part of the solution\n",
        "      Pass a subset of the food library and the reduced goal to find_solution()\n",
        "\n",
        "    OUTPUT:\n",
        "    a list of integers that represents the solution that comes next in the order of solutions where\n",
        "    the first food is maximized first, then the second, and so on\n",
        "    '''\n",
        "    # Chop off last element\n",
        "    goal_reduction_amount = previous_solution[:-1]\n",
        "    \n",
        "    # If all but the last element of the previous solution are 0, there is no next solution\n",
        "    if max(goal_reduction_amount) == 0:\n",
        "      return None\n",
        "    else:\n",
        "      # Find last non-zero element, reduce it by 1\n",
        "      found = False\n",
        "      while not found:\n",
        "        if goal_reduction_amount[-1] > 0:\n",
        "          goal_reduction_amount[-1] -= 1\n",
        "          found = True\n",
        "        else:\n",
        "          goal_reduction_amount = goal_reduction_amount[:-1]\n",
        "\n",
        "      # Reduce goal by goal_reduction_amount\n",
        "      goal -= calc_macros(food_library[:len(goal_reduction_amount)], goal_reduction_amount)\n",
        "      \n",
        "      # Remove first n elements of food_library, where n = len(goal_reduction_amount)\n",
        "      food_library = food_library[len(goal_reduction_amount):]\n",
        "\n",
        "      # Calculate next solution\n",
        "      solution = find_solution(food_library, goal)\n",
        "      goal_reduction_amount.extend(solution)\n",
        "      return goal_reduction_amount"
      ],
      "execution_count": 0,
      "outputs": []
    },
    {
      "cell_type": "code",
      "metadata": {
        "id": "kV-k--P4EJ_o",
        "colab_type": "code",
        "outputId": "1777e088-69cb-490f-9b87-659a50b89593",
        "colab": {
          "base_uri": "https://localhost:8080/",
          "height": 35
        }
      },
      "source": [
        "find_next_solution(food_library, goal, [5, 5, 3, 1])"
      ],
      "execution_count": 0,
      "outputs": [
        {
          "output_type": "execute_result",
          "data": {
            "text/plain": [
              "[5, 5, 2, 1]"
            ]
          },
          "metadata": {
            "tags": []
          },
          "execution_count": 35
        }
      ]
    },
    {
      "cell_type": "code",
      "metadata": {
        "id": "ywmVDAgKYttl",
        "colab_type": "code",
        "colab": {}
      },
      "source": [
        "def pareto_optimal(solution, ensemble):\n",
        "    '''\n",
        "    INPUT:\n",
        "    solution - a list of integers that represents a possible combination of foods that fit within the goal\n",
        "    ensemble - a list of lists including all pareto optimal solutions found so far\n",
        "\n",
        "    STEPS:\n",
        "    if the solution is of type None (which will be the output of find_next_solution() when no more solutions exist),\n",
        "    return False, thereby not allowing the solution to join the ensemble\n",
        "    else, check the solution against every solution in the ensemble\n",
        "    if any solution in the ensemble is greater than or equal to the solution for all list indices, the solution is not pareto optimal\n",
        "    otherwise, it is pareto optimal\n",
        "\n",
        "    OUTPUT:\n",
        "    a boolean representing whether the solution is pareto optimal to the ensemble of existing solutions\n",
        "    '''\n",
        "    if solution is None:\n",
        "      return False\n",
        "    else:\n",
        "      solution = np.array(solution)\n",
        "      ensemble = np.array(ensemble)\n",
        "      for entry in ensemble:\n",
        "        if min(entry-solution) >= 0:\n",
        "          return False\n",
        "      return True"
      ],
      "execution_count": 0,
      "outputs": []
    },
    {
      "cell_type": "code",
      "metadata": {
        "id": "MDz3tujvFnFF",
        "colab_type": "code",
        "outputId": "2aa27a81-7224-4216-a3ca-607641660c1b",
        "colab": {
          "base_uri": "https://localhost:8080/",
          "height": 35
        }
      },
      "source": [
        "pareto_optimal([5, 5, 2, 1], [[5, 5, 3, 1]])"
      ],
      "execution_count": 0,
      "outputs": [
        {
          "output_type": "execute_result",
          "data": {
            "text/plain": [
              "False"
            ]
          },
          "metadata": {
            "tags": []
          },
          "execution_count": 36
        }
      ]
    },
    {
      "cell_type": "code",
      "metadata": {
        "id": "VcT61d2nYGB1",
        "colab_type": "code",
        "colab": {}
      },
      "source": [
        "def calc_pareto_ensemble(food_library, goal, print_output=False):\n",
        "    '''\n",
        "    INPUT:\n",
        "    food_library - a list of Macros or Food objects containing the foods from which to draw possible combinations\n",
        "    goal - a Macros object within which food combinations must lie\n",
        "    print_output - whether to print pareto optimal solutions as they are found, default is False\n",
        "\n",
        "    STEPS:\n",
        "    Remove foods from food library that are repeats or for which one serving does not fit within goal\n",
        "    Find first solution, create ensemble\n",
        "    Find more solutions, add to ensemble if they are pareto optimal\n",
        "    If print_output is True, print pareto optimal solutions as they are found\n",
        "\n",
        "    OUTPUT:\n",
        "    a list of lists including all pareto optimal solutions, in descending order\n",
        "    of number of servings of first food, then second, and so on\n",
        "    '''\n",
        "    # Keep only unique instances of food items\n",
        "    food_library = unique(food_library)\n",
        "    # Keep only those foods for which at least one serving fits within goal\n",
        "    food_library = [food for food in food_library if goal//food > 0]\n",
        "    # Find first solution\n",
        "    solution = find_solution(food_library, goal)\n",
        "    ensemble = [solution]\n",
        "    if print_output:\n",
        "      print_solution(food_library, solution)\n",
        "    # Find all other solutions\n",
        "    while solution is not None:\n",
        "      solution = find_next_solution(food_library, goal, solution)\n",
        "      if pareto_optimal(solution, ensemble):\n",
        "        ensemble.append(solution)\n",
        "        if print_output:\n",
        "          print_solution(food_library, solution)\n",
        "    # Return ensemble\n",
        "    return ensemble"
      ],
      "execution_count": 0,
      "outputs": []
    },
    {
      "cell_type": "code",
      "metadata": {
        "id": "XjgSkZ8vBqkU",
        "colab_type": "code",
        "outputId": "7e9b590e-8a48-4bcf-eed6-d247a8e58af9",
        "colab": {
          "base_uri": "https://localhost:8080/",
          "height": 35
        }
      },
      "source": [
        "goal = Macros(.40, .30, .30, calories = 2000)\n",
        "goal"
      ],
      "execution_count": 0,
      "outputs": [
        {
          "output_type": "execute_result",
          "data": {
            "text/plain": [
              "200.0 grams of carbs, 66.7 grams of fat, 150.0 grams of protein, and 2000 calories."
            ]
          },
          "metadata": {
            "tags": []
          },
          "execution_count": 19
        }
      ]
    },
    {
      "cell_type": "code",
      "metadata": {
        "id": "W_WJNGjPYj6l",
        "colab_type": "code",
        "outputId": "da6115e6-12dc-43b8-9dbd-2bc93ca3a59f",
        "colab": {
          "base_uri": "https://localhost:8080/",
          "height": 1000
        }
      },
      "source": [
        "food_library = [oats, peanuts, cod, eggs]\n",
        "ensemble = calc_pareto_ensemble(food_library, goal, print_output=True)"
      ],
      "execution_count": 0,
      "outputs": [
        {
          "output_type": "stream",
          "text": [
            "5 servings of Oats, 5 servings of Peanuts, 3 servings of Cod (wild, without skin), 1 serving of Eggs\n",
            "196.0 grams of carbs, 65.4 grams of fat, 146.3 grams of protein, and 1960 calories.\n",
            "\n",
            "5 servings of Oats, 4 servings of Peanuts, 2 servings of Cod (wild, without skin), 4 servings of Eggs\n",
            "190.8 grams of carbs, 65.5 grams of fat, 149.2 grams of protein, and 1950 calories.\n",
            "\n",
            "5 servings of Oats, 3 servings of Peanuts, 4 servings of Cod (wild, without skin), 0 servings of Eggs\n",
            "185.6 grams of carbs, 42.2 grams of fat, 146.4 grams of protein, and 1710 calories.\n",
            "\n",
            "5 servings of Oats, 3 servings of Peanuts, 3 servings of Cod (wild, without skin), 2 servings of Eggs\n",
            "185.6 grams of carbs, 48.8 grams of fat, 144.3 grams of protein, and 1760 calories.\n",
            "\n",
            "5 servings of Oats, 3 servings of Peanuts, 1 serving of Cod (wild, without skin), 6 servings of Eggs\n",
            "185.6 grams of carbs, 62.0 grams of fat, 140.1 grams of protein, and 1860 calories.\n",
            "\n",
            "5 servings of Oats, 3 servings of Peanuts, 0 servings of Cod (wild, without skin), 7 servings of Eggs\n",
            "185.6 grams of carbs, 65.0 grams of fat, 126.0 grams of protein, and 1830 calories.\n",
            "\n",
            "5 servings of Oats, 2 servings of Peanuts, 3 servings of Cod (wild, without skin), 3 servings of Eggs\n",
            "180.4 grams of carbs, 42.3 grams of fat, 149.3 grams of protein, and 1700 calories.\n",
            "\n",
            "5 servings of Oats, 2 servings of Peanuts, 2 servings of Cod (wild, without skin), 5 servings of Eggs\n",
            "180.4 grams of carbs, 48.9 grams of fat, 147.2 grams of protein, and 1750 calories.\n",
            "\n",
            "5 servings of Oats, 2 servings of Peanuts, 1 serving of Cod (wild, without skin), 7 servings of Eggs\n",
            "180.4 grams of carbs, 55.5 grams of fat, 145.1 grams of protein, and 1800 calories.\n",
            "\n",
            "5 servings of Oats, 2 servings of Peanuts, 0 servings of Cod (wild, without skin), 9 servings of Eggs\n",
            "180.4 grams of carbs, 62.1 grams of fat, 143.0 grams of protein, and 1850 calories.\n",
            "\n",
            "5 servings of Oats, 1 serving of Peanuts, 4 servings of Cod (wild, without skin), 1 serving of Eggs\n",
            "175.2 grams of carbs, 25.6 grams of fat, 144.4 grams of protein, and 1510 calories.\n",
            "\n",
            "5 servings of Oats, 1 serving of Peanuts, 0 servings of Cod (wild, without skin), 10 servings of Eggs\n",
            "175.2 grams of carbs, 55.6 grams of fat, 148.0 grams of protein, and 1790 calories.\n",
            "\n",
            "5 servings of Oats, 0 servings of Peanuts, 4 servings of Cod (wild, without skin), 2 servings of Eggs\n",
            "170.0 grams of carbs, 19.1 grams of fat, 149.4 grams of protein, and 1450 calories.\n",
            "\n",
            "5 servings of Oats, 0 servings of Peanuts, 3 servings of Cod (wild, without skin), 4 servings of Eggs\n",
            "170.0 grams of carbs, 25.7 grams of fat, 147.3 grams of protein, and 1500 calories.\n",
            "\n",
            "5 servings of Oats, 0 servings of Peanuts, 2 servings of Cod (wild, without skin), 6 servings of Eggs\n",
            "170.0 grams of carbs, 32.3 grams of fat, 145.2 grams of protein, and 1550 calories.\n",
            "\n",
            "5 servings of Oats, 0 servings of Peanuts, 1 serving of Cod (wild, without skin), 8 servings of Eggs\n",
            "170.0 grams of carbs, 38.9 grams of fat, 143.1 grams of protein, and 1600 calories.\n",
            "\n",
            "4 servings of Oats, 5 servings of Peanuts, 2 servings of Cod (wild, without skin), 2 servings of Eggs\n",
            "162.0 grams of carbs, 66.5 grams of fat, 128.0 grams of protein, and 1760 calories.\n",
            "\n",
            "4 servings of Oats, 4 servings of Peanuts, 4 servings of Cod (wild, without skin), 0 servings of Eggs\n",
            "156.8 grams of carbs, 50.4 grams of fat, 149.2 grams of protein, and 1680 calories.\n",
            "\n",
            "4 servings of Oats, 4 servings of Peanuts, 3 servings of Cod (wild, without skin), 2 servings of Eggs\n",
            "156.8 grams of carbs, 57.0 grams of fat, 147.1 grams of protein, and 1730 calories.\n",
            "\n",
            "4 servings of Oats, 4 servings of Peanuts, 1 serving of Cod (wild, without skin), 5 servings of Eggs\n",
            "156.8 grams of carbs, 66.6 grams of fat, 130.9 grams of protein, and 1750 calories.\n",
            "\n",
            "4 servings of Oats, 3 servings of Peanuts, 2 servings of Cod (wild, without skin), 5 servings of Eggs\n",
            "151.6 grams of carbs, 57.1 grams of fat, 150.0 grams of protein, and 1720 calories.\n",
            "\n",
            "4 servings of Oats, 3 servings of Peanuts, 1 serving of Cod (wild, without skin), 7 servings of Eggs\n",
            "151.6 grams of carbs, 63.7 grams of fat, 147.9 grams of protein, and 1770 calories.\n",
            "\n",
            "4 servings of Oats, 3 servings of Peanuts, 0 servings of Cod (wild, without skin), 8 servings of Eggs\n",
            "151.6 grams of carbs, 66.7 grams of fat, 133.8 grams of protein, and 1740 calories.\n",
            "\n",
            "4 servings of Oats, 2 servings of Peanuts, 4 servings of Cod (wild, without skin), 1 serving of Eggs\n",
            "146.4 grams of carbs, 33.8 grams of fat, 147.2 grams of protein, and 1480 calories.\n",
            "\n",
            "4 servings of Oats, 1 serving of Peanuts, 2 servings of Cod (wild, without skin), 6 servings of Eggs\n",
            "141.2 grams of carbs, 40.5 grams of fat, 148.0 grams of protein, and 1520 calories.\n",
            "\n",
            "4 servings of Oats, 1 serving of Peanuts, 1 serving of Cod (wild, without skin), 8 servings of Eggs\n",
            "141.2 grams of carbs, 47.1 grams of fat, 145.9 grams of protein, and 1570 calories.\n",
            "\n",
            "4 servings of Oats, 0 servings of Peanuts, 5 servings of Cod (wild, without skin), 0 servings of Eggs\n",
            "136.0 grams of carbs, 10.6 grams of fat, 147.3 grams of protein, and 1230 calories.\n",
            "\n",
            "4 servings of Oats, 0 servings of Peanuts, 0 servings of Cod (wild, without skin), 11 servings of Eggs\n",
            "136.0 grams of carbs, 47.2 grams of fat, 148.8 grams of protein, and 1560 calories.\n",
            "\n",
            "3 servings of Oats, 6 servings of Peanuts, 0 servings of Cod (wild, without skin), 0 servings of Eggs\n",
            "133.2 grams of carbs, 66.3 grams of fat, 54.6 grams of protein, and 1350 calories.\n",
            "\n",
            "3 servings of Oats, 5 servings of Peanuts, 3 servings of Cod (wild, without skin), 2 servings of Eggs\n",
            "128.0 grams of carbs, 65.2 grams of fat, 149.9 grams of protein, and 1700 calories.\n",
            "\n",
            "3 servings of Oats, 3 servings of Peanuts, 4 servings of Cod (wild, without skin), 1 serving of Eggs\n",
            "117.6 grams of carbs, 42.0 grams of fat, 150.0 grams of protein, and 1450 calories.\n",
            "\n",
            "3 servings of Oats, 3 servings of Peanuts, 3 servings of Cod (wild, without skin), 3 servings of Eggs\n",
            "117.6 grams of carbs, 48.6 grams of fat, 147.9 grams of protein, and 1500 calories.\n",
            "\n",
            "3 servings of Oats, 2 servings of Peanuts, 1 serving of Cod (wild, without skin), 8 servings of Eggs\n",
            "112.4 grams of carbs, 55.3 grams of fat, 148.7 grams of protein, and 1540 calories.\n",
            "\n",
            "3 servings of Oats, 2 servings of Peanuts, 0 servings of Cod (wild, without skin), 10 servings of Eggs\n",
            "112.4 grams of carbs, 61.9 grams of fat, 146.6 grams of protein, and 1590 calories.\n",
            "\n",
            "3 servings of Oats, 1 serving of Peanuts, 4 servings of Cod (wild, without skin), 2 servings of Eggs\n",
            "107.2 grams of carbs, 25.4 grams of fat, 148.0 grams of protein, and 1250 calories.\n",
            "\n",
            "3 servings of Oats, 1 serving of Peanuts, 3 servings of Cod (wild, without skin), 4 servings of Eggs\n",
            "107.2 grams of carbs, 32.0 grams of fat, 145.9 grams of protein, and 1300 calories.\n",
            "\n",
            "3 servings of Oats, 0 servings of Peanuts, 2 servings of Cod (wild, without skin), 7 servings of Eggs\n",
            "102.0 grams of carbs, 32.1 grams of fat, 148.8 grams of protein, and 1290 calories.\n",
            "\n",
            "3 servings of Oats, 0 servings of Peanuts, 1 serving of Cod (wild, without skin), 9 servings of Eggs\n",
            "102.0 grams of carbs, 38.7 grams of fat, 146.7 grams of protein, and 1340 calories.\n",
            "\n",
            "2 servings of Oats, 6 servings of Peanuts, 3 servings of Cod (wild, without skin), 0 servings of Eggs\n",
            "99.2 grams of carbs, 66.2 grams of fat, 128.7 grams of protein, and 1510 calories.\n",
            "\n",
            "2 servings of Oats, 5 servings of Peanuts, 4 servings of Cod (wild, without skin), 0 servings of Eggs\n",
            "94.0 grams of carbs, 56.7 grams of fat, 147.8 grams of protein, and 1480 calories.\n",
            "\n",
            "2 servings of Oats, 5 servings of Peanuts, 2 servings of Cod (wild, without skin), 3 servings of Eggs\n",
            "94.0 grams of carbs, 66.3 grams of fat, 131.6 grams of protein, and 1500 calories.\n",
            "\n",
            "2 servings of Oats, 4 servings of Peanuts, 2 servings of Cod (wild, without skin), 5 servings of Eggs\n",
            "88.8 grams of carbs, 63.4 grams of fat, 148.6 grams of protein, and 1520 calories.\n",
            "\n",
            "2 servings of Oats, 4 servings of Peanuts, 1 serving of Cod (wild, without skin), 6 servings of Eggs\n",
            "88.8 grams of carbs, 66.4 grams of fat, 134.5 grams of protein, and 1490 calories.\n",
            "\n",
            "2 servings of Oats, 3 servings of Peanuts, 0 servings of Cod (wild, without skin), 9 servings of Eggs\n",
            "83.6 grams of carbs, 66.5 grams of fat, 137.4 grams of protein, and 1480 calories.\n",
            "\n",
            "2 servings of Oats, 2 servings of Peanuts, 3 servings of Cod (wild, without skin), 4 servings of Eggs\n",
            "78.4 grams of carbs, 40.2 grams of fat, 148.7 grams of protein, and 1270 calories.\n",
            "\n",
            "2 servings of Oats, 2 servings of Peanuts, 2 servings of Cod (wild, without skin), 6 servings of Eggs\n",
            "78.4 grams of carbs, 46.8 grams of fat, 146.6 grams of protein, and 1320 calories.\n",
            "\n",
            "2 servings of Oats, 1 serving of Peanuts, 5 servings of Cod (wild, without skin), 0 servings of Eggs\n",
            "73.2 grams of carbs, 16.9 grams of fat, 145.9 grams of protein, and 1030 calories.\n",
            "\n",
            "2 servings of Oats, 1 serving of Peanuts, 1 serving of Cod (wild, without skin), 9 servings of Eggs\n",
            "73.2 grams of carbs, 46.9 grams of fat, 149.5 grams of protein, and 1310 calories.\n",
            "\n",
            "2 servings of Oats, 1 serving of Peanuts, 0 servings of Cod (wild, without skin), 11 servings of Eggs\n",
            "73.2 grams of carbs, 53.5 grams of fat, 147.4 grams of protein, and 1360 calories.\n",
            "\n",
            "2 servings of Oats, 0 servings of Peanuts, 4 servings of Cod (wild, without skin), 3 servings of Eggs\n",
            "68.0 grams of carbs, 17.0 grams of fat, 148.8 grams of protein, and 1020 calories.\n",
            "\n",
            "2 servings of Oats, 0 servings of Peanuts, 3 servings of Cod (wild, without skin), 5 servings of Eggs\n",
            "68.0 grams of carbs, 23.6 grams of fat, 146.7 grams of protein, and 1070 calories.\n",
            "\n",
            "1 serving of Oats, 6 servings of Peanuts, 1 serving of Cod (wild, without skin), 1 serving of Eggs\n",
            "65.2 grams of carbs, 66.7 grams of fat, 84.3 grams of protein, and 1200 calories.\n",
            "\n",
            "1 serving of Oats, 4 servings of Peanuts, 4 servings of Cod (wild, without skin), 1 serving of Eggs\n",
            "54.8 grams of carbs, 48.3 grams of fat, 148.6 grams of protein, and 1250 calories.\n",
            "\n",
            "1 serving of Oats, 4 servings of Peanuts, 3 servings of Cod (wild, without skin), 3 servings of Eggs\n",
            "54.8 grams of carbs, 54.9 grams of fat, 146.5 grams of protein, and 1300 calories.\n",
            "\n",
            "1 serving of Oats, 3 servings of Peanuts, 2 servings of Cod (wild, without skin), 6 servings of Eggs\n",
            "49.6 grams of carbs, 55.0 grams of fat, 149.4 grams of protein, and 1290 calories.\n",
            "\n",
            "1 serving of Oats, 3 servings of Peanuts, 1 serving of Cod (wild, without skin), 8 servings of Eggs\n",
            "49.6 grams of carbs, 61.6 grams of fat, 147.3 grams of protein, and 1340 calories.\n",
            "\n",
            "1 serving of Oats, 2 servings of Peanuts, 5 servings of Cod (wild, without skin), 0 servings of Eggs\n",
            "44.4 grams of carbs, 25.1 grams of fat, 148.7 grams of protein, and 1000 calories.\n",
            "\n",
            "1 serving of Oats, 2 servings of Peanuts, 4 servings of Cod (wild, without skin), 2 servings of Eggs\n",
            "44.4 grams of carbs, 31.7 grams of fat, 146.6 grams of protein, and 1050 calories.\n",
            "\n",
            "1 serving of Oats, 1 serving of Peanuts, 3 servings of Cod (wild, without skin), 5 servings of Eggs\n",
            "39.2 grams of carbs, 31.8 grams of fat, 149.5 grams of protein, and 1040 calories.\n",
            "\n",
            "1 serving of Oats, 1 serving of Peanuts, 2 servings of Cod (wild, without skin), 7 servings of Eggs\n",
            "39.2 grams of carbs, 38.4 grams of fat, 147.4 grams of protein, and 1090 calories.\n",
            "\n",
            "1 serving of Oats, 0 servings of Peanuts, 5 servings of Cod (wild, without skin), 1 serving of Eggs\n",
            "34.0 grams of carbs, 8.5 grams of fat, 146.7 grams of protein, and 800 calories.\n",
            "\n",
            "1 serving of Oats, 0 servings of Peanuts, 0 servings of Cod (wild, without skin), 12 servings of Eggs\n",
            "34.0 grams of carbs, 45.1 grams of fat, 148.2 grams of protein, and 1130 calories.\n",
            "\n",
            "0 servings of Oats, 6 servings of Peanuts, 4 servings of Cod (wild, without skin), 0 servings of Eggs\n",
            "31.2 grams of carbs, 63.0 grams of fat, 146.4 grams of protein, and 1280 calories.\n",
            "\n",
            "0 servings of Oats, 6 servings of Peanuts, 3 servings of Cod (wild, without skin), 1 serving of Eggs\n",
            "31.2 grams of carbs, 66.0 grams of fat, 132.3 grams of protein, and 1250 calories.\n",
            "\n",
            "0 servings of Oats, 5 servings of Peanuts, 3 servings of Cod (wild, without skin), 3 servings of Eggs\n",
            "26.0 grams of carbs, 63.1 grams of fat, 149.3 grams of protein, and 1270 calories.\n",
            "\n",
            "0 servings of Oats, 5 servings of Peanuts, 2 servings of Cod (wild, without skin), 4 servings of Eggs\n",
            "26.0 grams of carbs, 66.1 grams of fat, 135.2 grams of protein, and 1240 calories.\n",
            "\n",
            "0 servings of Oats, 4 servings of Peanuts, 1 serving of Cod (wild, without skin), 7 servings of Eggs\n",
            "20.8 grams of carbs, 66.2 grams of fat, 138.1 grams of protein, and 1230 calories.\n",
            "\n",
            "0 servings of Oats, 3 servings of Peanuts, 4 servings of Cod (wild, without skin), 2 servings of Eggs\n",
            "15.6 grams of carbs, 39.9 grams of fat, 149.4 grams of protein, and 1020 calories.\n",
            "\n",
            "0 servings of Oats, 3 servings of Peanuts, 3 servings of Cod (wild, without skin), 4 servings of Eggs\n",
            "15.6 grams of carbs, 46.5 grams of fat, 147.3 grams of protein, and 1070 calories.\n",
            "\n",
            "0 servings of Oats, 3 servings of Peanuts, 0 servings of Cod (wild, without skin), 10 servings of Eggs\n",
            "15.6 grams of carbs, 66.3 grams of fat, 141.0 grams of protein, and 1220 calories.\n",
            "\n",
            "0 servings of Oats, 2 servings of Peanuts, 1 serving of Cod (wild, without skin), 9 servings of Eggs\n",
            "10.4 grams of carbs, 53.2 grams of fat, 148.1 grams of protein, and 1110 calories.\n",
            "\n",
            "0 servings of Oats, 2 servings of Peanuts, 0 servings of Cod (wild, without skin), 11 servings of Eggs\n",
            "10.4 grams of carbs, 59.8 grams of fat, 146.0 grams of protein, and 1160 calories.\n",
            "\n",
            "0 servings of Oats, 1 serving of Peanuts, 5 servings of Cod (wild, without skin), 1 serving of Eggs\n",
            "5.2 grams of carbs, 16.7 grams of fat, 149.5 grams of protein, and 770 calories.\n",
            "\n",
            "0 servings of Oats, 1 serving of Peanuts, 4 servings of Cod (wild, without skin), 3 servings of Eggs\n",
            "5.2 grams of carbs, 23.3 grams of fat, 147.4 grams of protein, and 820 calories.\n",
            "\n",
            "0 servings of Oats, 0 servings of Peanuts, 2 servings of Cod (wild, without skin), 8 servings of Eggs\n",
            "0.0 grams of carbs, 30.0 grams of fat, 148.2 grams of protein, and 860 calories.\n",
            "\n",
            "0 servings of Oats, 0 servings of Peanuts, 1 serving of Cod (wild, without skin), 10 servings of Eggs\n",
            "0.0 grams of carbs, 36.6 grams of fat, 146.1 grams of protein, and 910 calories.\n",
            "\n"
          ],
          "name": "stdout"
        }
      ]
    },
    {
      "cell_type": "markdown",
      "metadata": {
        "id": "qvxw7lT-iDag",
        "colab_type": "text"
      },
      "source": [
        "To print the servings and macros for an existing ensemble:"
      ]
    },
    {
      "cell_type": "code",
      "metadata": {
        "id": "BA9z5-4QiJv3",
        "colab_type": "code",
        "outputId": "27e1cd65-84ae-4f0c-b9a8-13e3abfe58e7",
        "colab": {
          "base_uri": "https://localhost:8080/",
          "height": 1000
        }
      },
      "source": [
        "for solution in ensemble:\n",
        "  print_solution(food_library, solution)"
      ],
      "execution_count": 0,
      "outputs": [
        {
          "output_type": "stream",
          "text": [
            "5 servings of Oats, 5 servings of Peanuts, 3 servings of Cod (wild, without skin), 1 serving of Eggs\n",
            "196.0 grams of carbs, 65.4 grams of fat, 146.3 grams of protein, and 1960 calories.\n",
            "\n",
            "5 servings of Oats, 4 servings of Peanuts, 2 servings of Cod (wild, without skin), 4 servings of Eggs\n",
            "190.8 grams of carbs, 65.5 grams of fat, 149.2 grams of protein, and 1950 calories.\n",
            "\n",
            "5 servings of Oats, 3 servings of Peanuts, 4 servings of Cod (wild, without skin), 0 servings of Eggs\n",
            "185.6 grams of carbs, 42.2 grams of fat, 146.4 grams of protein, and 1710 calories.\n",
            "\n",
            "5 servings of Oats, 3 servings of Peanuts, 3 servings of Cod (wild, without skin), 2 servings of Eggs\n",
            "185.6 grams of carbs, 48.8 grams of fat, 144.3 grams of protein, and 1760 calories.\n",
            "\n",
            "5 servings of Oats, 3 servings of Peanuts, 1 serving of Cod (wild, without skin), 6 servings of Eggs\n",
            "185.6 grams of carbs, 62.0 grams of fat, 140.1 grams of protein, and 1860 calories.\n",
            "\n",
            "5 servings of Oats, 3 servings of Peanuts, 0 servings of Cod (wild, without skin), 7 servings of Eggs\n",
            "185.6 grams of carbs, 65.0 grams of fat, 126.0 grams of protein, and 1830 calories.\n",
            "\n",
            "5 servings of Oats, 2 servings of Peanuts, 3 servings of Cod (wild, without skin), 3 servings of Eggs\n",
            "180.4 grams of carbs, 42.3 grams of fat, 149.3 grams of protein, and 1700 calories.\n",
            "\n",
            "5 servings of Oats, 2 servings of Peanuts, 2 servings of Cod (wild, without skin), 5 servings of Eggs\n",
            "180.4 grams of carbs, 48.9 grams of fat, 147.2 grams of protein, and 1750 calories.\n",
            "\n",
            "5 servings of Oats, 2 servings of Peanuts, 1 serving of Cod (wild, without skin), 7 servings of Eggs\n",
            "180.4 grams of carbs, 55.5 grams of fat, 145.1 grams of protein, and 1800 calories.\n",
            "\n",
            "5 servings of Oats, 2 servings of Peanuts, 0 servings of Cod (wild, without skin), 9 servings of Eggs\n",
            "180.4 grams of carbs, 62.1 grams of fat, 143.0 grams of protein, and 1850 calories.\n",
            "\n",
            "5 servings of Oats, 1 serving of Peanuts, 4 servings of Cod (wild, without skin), 1 serving of Eggs\n",
            "175.2 grams of carbs, 25.6 grams of fat, 144.4 grams of protein, and 1510 calories.\n",
            "\n",
            "5 servings of Oats, 1 serving of Peanuts, 0 servings of Cod (wild, without skin), 10 servings of Eggs\n",
            "175.2 grams of carbs, 55.6 grams of fat, 148.0 grams of protein, and 1790 calories.\n",
            "\n",
            "5 servings of Oats, 0 servings of Peanuts, 4 servings of Cod (wild, without skin), 2 servings of Eggs\n",
            "170.0 grams of carbs, 19.1 grams of fat, 149.4 grams of protein, and 1450 calories.\n",
            "\n",
            "5 servings of Oats, 0 servings of Peanuts, 3 servings of Cod (wild, without skin), 4 servings of Eggs\n",
            "170.0 grams of carbs, 25.7 grams of fat, 147.3 grams of protein, and 1500 calories.\n",
            "\n",
            "5 servings of Oats, 0 servings of Peanuts, 2 servings of Cod (wild, without skin), 6 servings of Eggs\n",
            "170.0 grams of carbs, 32.3 grams of fat, 145.2 grams of protein, and 1550 calories.\n",
            "\n",
            "5 servings of Oats, 0 servings of Peanuts, 1 serving of Cod (wild, without skin), 8 servings of Eggs\n",
            "170.0 grams of carbs, 38.9 grams of fat, 143.1 grams of protein, and 1600 calories.\n",
            "\n",
            "4 servings of Oats, 5 servings of Peanuts, 2 servings of Cod (wild, without skin), 2 servings of Eggs\n",
            "162.0 grams of carbs, 66.5 grams of fat, 128.0 grams of protein, and 1760 calories.\n",
            "\n",
            "4 servings of Oats, 4 servings of Peanuts, 4 servings of Cod (wild, without skin), 0 servings of Eggs\n",
            "156.8 grams of carbs, 50.4 grams of fat, 149.2 grams of protein, and 1680 calories.\n",
            "\n",
            "4 servings of Oats, 4 servings of Peanuts, 3 servings of Cod (wild, without skin), 2 servings of Eggs\n",
            "156.8 grams of carbs, 57.0 grams of fat, 147.1 grams of protein, and 1730 calories.\n",
            "\n",
            "4 servings of Oats, 4 servings of Peanuts, 1 serving of Cod (wild, without skin), 5 servings of Eggs\n",
            "156.8 grams of carbs, 66.6 grams of fat, 130.9 grams of protein, and 1750 calories.\n",
            "\n",
            "4 servings of Oats, 3 servings of Peanuts, 2 servings of Cod (wild, without skin), 5 servings of Eggs\n",
            "151.6 grams of carbs, 57.1 grams of fat, 150.0 grams of protein, and 1720 calories.\n",
            "\n",
            "4 servings of Oats, 3 servings of Peanuts, 1 serving of Cod (wild, without skin), 7 servings of Eggs\n",
            "151.6 grams of carbs, 63.7 grams of fat, 147.9 grams of protein, and 1770 calories.\n",
            "\n",
            "4 servings of Oats, 3 servings of Peanuts, 0 servings of Cod (wild, without skin), 8 servings of Eggs\n",
            "151.6 grams of carbs, 66.7 grams of fat, 133.8 grams of protein, and 1740 calories.\n",
            "\n",
            "4 servings of Oats, 2 servings of Peanuts, 4 servings of Cod (wild, without skin), 1 serving of Eggs\n",
            "146.4 grams of carbs, 33.8 grams of fat, 147.2 grams of protein, and 1480 calories.\n",
            "\n",
            "4 servings of Oats, 1 serving of Peanuts, 2 servings of Cod (wild, without skin), 6 servings of Eggs\n",
            "141.2 grams of carbs, 40.5 grams of fat, 148.0 grams of protein, and 1520 calories.\n",
            "\n",
            "4 servings of Oats, 1 serving of Peanuts, 1 serving of Cod (wild, without skin), 8 servings of Eggs\n",
            "141.2 grams of carbs, 47.1 grams of fat, 145.9 grams of protein, and 1570 calories.\n",
            "\n",
            "4 servings of Oats, 0 servings of Peanuts, 5 servings of Cod (wild, without skin), 0 servings of Eggs\n",
            "136.0 grams of carbs, 10.6 grams of fat, 147.3 grams of protein, and 1230 calories.\n",
            "\n",
            "4 servings of Oats, 0 servings of Peanuts, 0 servings of Cod (wild, without skin), 11 servings of Eggs\n",
            "136.0 grams of carbs, 47.2 grams of fat, 148.8 grams of protein, and 1560 calories.\n",
            "\n",
            "3 servings of Oats, 6 servings of Peanuts, 0 servings of Cod (wild, without skin), 0 servings of Eggs\n",
            "133.2 grams of carbs, 66.3 grams of fat, 54.6 grams of protein, and 1350 calories.\n",
            "\n",
            "3 servings of Oats, 5 servings of Peanuts, 3 servings of Cod (wild, without skin), 2 servings of Eggs\n",
            "128.0 grams of carbs, 65.2 grams of fat, 149.9 grams of protein, and 1700 calories.\n",
            "\n",
            "3 servings of Oats, 3 servings of Peanuts, 4 servings of Cod (wild, without skin), 1 serving of Eggs\n",
            "117.6 grams of carbs, 42.0 grams of fat, 150.0 grams of protein, and 1450 calories.\n",
            "\n",
            "3 servings of Oats, 3 servings of Peanuts, 3 servings of Cod (wild, without skin), 3 servings of Eggs\n",
            "117.6 grams of carbs, 48.6 grams of fat, 147.9 grams of protein, and 1500 calories.\n",
            "\n",
            "3 servings of Oats, 2 servings of Peanuts, 1 serving of Cod (wild, without skin), 8 servings of Eggs\n",
            "112.4 grams of carbs, 55.3 grams of fat, 148.7 grams of protein, and 1540 calories.\n",
            "\n",
            "3 servings of Oats, 2 servings of Peanuts, 0 servings of Cod (wild, without skin), 10 servings of Eggs\n",
            "112.4 grams of carbs, 61.9 grams of fat, 146.6 grams of protein, and 1590 calories.\n",
            "\n",
            "3 servings of Oats, 1 serving of Peanuts, 4 servings of Cod (wild, without skin), 2 servings of Eggs\n",
            "107.2 grams of carbs, 25.4 grams of fat, 148.0 grams of protein, and 1250 calories.\n",
            "\n",
            "3 servings of Oats, 1 serving of Peanuts, 3 servings of Cod (wild, without skin), 4 servings of Eggs\n",
            "107.2 grams of carbs, 32.0 grams of fat, 145.9 grams of protein, and 1300 calories.\n",
            "\n",
            "3 servings of Oats, 0 servings of Peanuts, 2 servings of Cod (wild, without skin), 7 servings of Eggs\n",
            "102.0 grams of carbs, 32.1 grams of fat, 148.8 grams of protein, and 1290 calories.\n",
            "\n",
            "3 servings of Oats, 0 servings of Peanuts, 1 serving of Cod (wild, without skin), 9 servings of Eggs\n",
            "102.0 grams of carbs, 38.7 grams of fat, 146.7 grams of protein, and 1340 calories.\n",
            "\n",
            "2 servings of Oats, 6 servings of Peanuts, 3 servings of Cod (wild, without skin), 0 servings of Eggs\n",
            "99.2 grams of carbs, 66.2 grams of fat, 128.7 grams of protein, and 1510 calories.\n",
            "\n",
            "2 servings of Oats, 5 servings of Peanuts, 4 servings of Cod (wild, without skin), 0 servings of Eggs\n",
            "94.0 grams of carbs, 56.7 grams of fat, 147.8 grams of protein, and 1480 calories.\n",
            "\n",
            "2 servings of Oats, 5 servings of Peanuts, 2 servings of Cod (wild, without skin), 3 servings of Eggs\n",
            "94.0 grams of carbs, 66.3 grams of fat, 131.6 grams of protein, and 1500 calories.\n",
            "\n",
            "2 servings of Oats, 4 servings of Peanuts, 2 servings of Cod (wild, without skin), 5 servings of Eggs\n",
            "88.8 grams of carbs, 63.4 grams of fat, 148.6 grams of protein, and 1520 calories.\n",
            "\n",
            "2 servings of Oats, 4 servings of Peanuts, 1 serving of Cod (wild, without skin), 6 servings of Eggs\n",
            "88.8 grams of carbs, 66.4 grams of fat, 134.5 grams of protein, and 1490 calories.\n",
            "\n",
            "2 servings of Oats, 3 servings of Peanuts, 0 servings of Cod (wild, without skin), 9 servings of Eggs\n",
            "83.6 grams of carbs, 66.5 grams of fat, 137.4 grams of protein, and 1480 calories.\n",
            "\n",
            "2 servings of Oats, 2 servings of Peanuts, 3 servings of Cod (wild, without skin), 4 servings of Eggs\n",
            "78.4 grams of carbs, 40.2 grams of fat, 148.7 grams of protein, and 1270 calories.\n",
            "\n",
            "2 servings of Oats, 2 servings of Peanuts, 2 servings of Cod (wild, without skin), 6 servings of Eggs\n",
            "78.4 grams of carbs, 46.8 grams of fat, 146.6 grams of protein, and 1320 calories.\n",
            "\n",
            "2 servings of Oats, 1 serving of Peanuts, 5 servings of Cod (wild, without skin), 0 servings of Eggs\n",
            "73.2 grams of carbs, 16.9 grams of fat, 145.9 grams of protein, and 1030 calories.\n",
            "\n",
            "2 servings of Oats, 1 serving of Peanuts, 1 serving of Cod (wild, without skin), 9 servings of Eggs\n",
            "73.2 grams of carbs, 46.9 grams of fat, 149.5 grams of protein, and 1310 calories.\n",
            "\n",
            "2 servings of Oats, 1 serving of Peanuts, 0 servings of Cod (wild, without skin), 11 servings of Eggs\n",
            "73.2 grams of carbs, 53.5 grams of fat, 147.4 grams of protein, and 1360 calories.\n",
            "\n",
            "2 servings of Oats, 0 servings of Peanuts, 4 servings of Cod (wild, without skin), 3 servings of Eggs\n",
            "68.0 grams of carbs, 17.0 grams of fat, 148.8 grams of protein, and 1020 calories.\n",
            "\n",
            "2 servings of Oats, 0 servings of Peanuts, 3 servings of Cod (wild, without skin), 5 servings of Eggs\n",
            "68.0 grams of carbs, 23.6 grams of fat, 146.7 grams of protein, and 1070 calories.\n",
            "\n",
            "1 serving of Oats, 6 servings of Peanuts, 1 serving of Cod (wild, without skin), 1 serving of Eggs\n",
            "65.2 grams of carbs, 66.7 grams of fat, 84.3 grams of protein, and 1200 calories.\n",
            "\n",
            "1 serving of Oats, 4 servings of Peanuts, 4 servings of Cod (wild, without skin), 1 serving of Eggs\n",
            "54.8 grams of carbs, 48.3 grams of fat, 148.6 grams of protein, and 1250 calories.\n",
            "\n",
            "1 serving of Oats, 4 servings of Peanuts, 3 servings of Cod (wild, without skin), 3 servings of Eggs\n",
            "54.8 grams of carbs, 54.9 grams of fat, 146.5 grams of protein, and 1300 calories.\n",
            "\n",
            "1 serving of Oats, 3 servings of Peanuts, 2 servings of Cod (wild, without skin), 6 servings of Eggs\n",
            "49.6 grams of carbs, 55.0 grams of fat, 149.4 grams of protein, and 1290 calories.\n",
            "\n",
            "1 serving of Oats, 3 servings of Peanuts, 1 serving of Cod (wild, without skin), 8 servings of Eggs\n",
            "49.6 grams of carbs, 61.6 grams of fat, 147.3 grams of protein, and 1340 calories.\n",
            "\n",
            "1 serving of Oats, 2 servings of Peanuts, 5 servings of Cod (wild, without skin), 0 servings of Eggs\n",
            "44.4 grams of carbs, 25.1 grams of fat, 148.7 grams of protein, and 1000 calories.\n",
            "\n",
            "1 serving of Oats, 2 servings of Peanuts, 4 servings of Cod (wild, without skin), 2 servings of Eggs\n",
            "44.4 grams of carbs, 31.7 grams of fat, 146.6 grams of protein, and 1050 calories.\n",
            "\n",
            "1 serving of Oats, 1 serving of Peanuts, 3 servings of Cod (wild, without skin), 5 servings of Eggs\n",
            "39.2 grams of carbs, 31.8 grams of fat, 149.5 grams of protein, and 1040 calories.\n",
            "\n",
            "1 serving of Oats, 1 serving of Peanuts, 2 servings of Cod (wild, without skin), 7 servings of Eggs\n",
            "39.2 grams of carbs, 38.4 grams of fat, 147.4 grams of protein, and 1090 calories.\n",
            "\n",
            "1 serving of Oats, 0 servings of Peanuts, 5 servings of Cod (wild, without skin), 1 serving of Eggs\n",
            "34.0 grams of carbs, 8.5 grams of fat, 146.7 grams of protein, and 800 calories.\n",
            "\n",
            "1 serving of Oats, 0 servings of Peanuts, 0 servings of Cod (wild, without skin), 12 servings of Eggs\n",
            "34.0 grams of carbs, 45.1 grams of fat, 148.2 grams of protein, and 1130 calories.\n",
            "\n",
            "0 servings of Oats, 6 servings of Peanuts, 4 servings of Cod (wild, without skin), 0 servings of Eggs\n",
            "31.2 grams of carbs, 63.0 grams of fat, 146.4 grams of protein, and 1280 calories.\n",
            "\n",
            "0 servings of Oats, 6 servings of Peanuts, 3 servings of Cod (wild, without skin), 1 serving of Eggs\n",
            "31.2 grams of carbs, 66.0 grams of fat, 132.3 grams of protein, and 1250 calories.\n",
            "\n",
            "0 servings of Oats, 5 servings of Peanuts, 3 servings of Cod (wild, without skin), 3 servings of Eggs\n",
            "26.0 grams of carbs, 63.1 grams of fat, 149.3 grams of protein, and 1270 calories.\n",
            "\n",
            "0 servings of Oats, 5 servings of Peanuts, 2 servings of Cod (wild, without skin), 4 servings of Eggs\n",
            "26.0 grams of carbs, 66.1 grams of fat, 135.2 grams of protein, and 1240 calories.\n",
            "\n",
            "0 servings of Oats, 4 servings of Peanuts, 1 serving of Cod (wild, without skin), 7 servings of Eggs\n",
            "20.8 grams of carbs, 66.2 grams of fat, 138.1 grams of protein, and 1230 calories.\n",
            "\n",
            "0 servings of Oats, 3 servings of Peanuts, 4 servings of Cod (wild, without skin), 2 servings of Eggs\n",
            "15.6 grams of carbs, 39.9 grams of fat, 149.4 grams of protein, and 1020 calories.\n",
            "\n",
            "0 servings of Oats, 3 servings of Peanuts, 3 servings of Cod (wild, without skin), 4 servings of Eggs\n",
            "15.6 grams of carbs, 46.5 grams of fat, 147.3 grams of protein, and 1070 calories.\n",
            "\n",
            "0 servings of Oats, 3 servings of Peanuts, 0 servings of Cod (wild, without skin), 10 servings of Eggs\n",
            "15.6 grams of carbs, 66.3 grams of fat, 141.0 grams of protein, and 1220 calories.\n",
            "\n",
            "0 servings of Oats, 2 servings of Peanuts, 1 serving of Cod (wild, without skin), 9 servings of Eggs\n",
            "10.4 grams of carbs, 53.2 grams of fat, 148.1 grams of protein, and 1110 calories.\n",
            "\n",
            "0 servings of Oats, 2 servings of Peanuts, 0 servings of Cod (wild, without skin), 11 servings of Eggs\n",
            "10.4 grams of carbs, 59.8 grams of fat, 146.0 grams of protein, and 1160 calories.\n",
            "\n",
            "0 servings of Oats, 1 serving of Peanuts, 5 servings of Cod (wild, without skin), 1 serving of Eggs\n",
            "5.2 grams of carbs, 16.7 grams of fat, 149.5 grams of protein, and 770 calories.\n",
            "\n",
            "0 servings of Oats, 1 serving of Peanuts, 4 servings of Cod (wild, without skin), 3 servings of Eggs\n",
            "5.2 grams of carbs, 23.3 grams of fat, 147.4 grams of protein, and 820 calories.\n",
            "\n",
            "0 servings of Oats, 0 servings of Peanuts, 2 servings of Cod (wild, without skin), 8 servings of Eggs\n",
            "0.0 grams of carbs, 30.0 grams of fat, 148.2 grams of protein, and 860 calories.\n",
            "\n",
            "0 servings of Oats, 0 servings of Peanuts, 1 serving of Cod (wild, without skin), 10 servings of Eggs\n",
            "0.0 grams of carbs, 36.6 grams of fat, 146.1 grams of protein, and 910 calories.\n",
            "\n"
          ],
          "name": "stdout"
        }
      ]
    },
    {
      "cell_type": "markdown",
      "metadata": {
        "id": "ER_jL-zIenrc",
        "colab_type": "text"
      },
      "source": [
        "The following test case checks if the same ensemble is created regardless of the order in which food items are specified in the library."
      ]
    },
    {
      "cell_type": "code",
      "metadata": {
        "id": "ntGzCtB4F1NF",
        "colab_type": "code",
        "outputId": "d25999cd-a7c8-42fa-99e6-4ed436192c5f",
        "colab": {
          "base_uri": "https://localhost:8080/",
          "height": 197
        }
      },
      "source": [
        "# Build ensemble from a library of oats, peanuts, cod, and eggs\n",
        "ensemble1 = calc_pareto_ensemble([oats, peanuts, cod, eggs], goal)\n",
        "ensemble1[:10]"
      ],
      "execution_count": 0,
      "outputs": [
        {
          "output_type": "execute_result",
          "data": {
            "text/plain": [
              "[[5, 5, 3, 1],\n",
              " [5, 4, 2, 4],\n",
              " [5, 3, 4, 0],\n",
              " [5, 3, 3, 2],\n",
              " [5, 3, 1, 6],\n",
              " [5, 3, 0, 7],\n",
              " [5, 2, 3, 3],\n",
              " [5, 2, 2, 5],\n",
              " [5, 2, 1, 7],\n",
              " [5, 2, 0, 9]]"
            ]
          },
          "metadata": {
            "tags": []
          },
          "execution_count": 75
        }
      ]
    },
    {
      "cell_type": "code",
      "metadata": {
        "id": "3yBQrQ9QfPr7",
        "colab_type": "code",
        "outputId": "45b254c7-d1f1-4927-dfe1-ef75a2af82df",
        "colab": {
          "base_uri": "https://localhost:8080/",
          "height": 35
        }
      },
      "source": [
        "# The ensemble is already sorted in descending order (by the nature of how it was created)\n",
        "ensemble1 == sorted(ensemble1, reverse=True)"
      ],
      "execution_count": 0,
      "outputs": [
        {
          "output_type": "execute_result",
          "data": {
            "text/plain": [
              "True"
            ]
          },
          "metadata": {
            "tags": []
          },
          "execution_count": 76
        }
      ]
    },
    {
      "cell_type": "code",
      "metadata": {
        "id": "RWU4z-k7drmK",
        "colab_type": "code",
        "outputId": "e132bd48-2d73-4544-b5d4-6fa7b30d4754",
        "colab": {
          "base_uri": "https://localhost:8080/",
          "height": 197
        }
      },
      "source": [
        "# Build ensemble from a library of cod, oats, eggs, and peanuts\n",
        "ensemble2 = calc_pareto_ensemble([cod, oats, eggs, peanuts], goal)\n",
        "ensemble2[:10]"
      ],
      "execution_count": 0,
      "outputs": [
        {
          "output_type": "execute_result",
          "data": {
            "text/plain": [
              "[[5, 4, 0, 0],\n",
              " [5, 2, 0, 1],\n",
              " [5, 1, 1, 0],\n",
              " [5, 1, 0, 2],\n",
              " [5, 0, 1, 1],\n",
              " [4, 5, 2, 0],\n",
              " [4, 5, 1, 1],\n",
              " [4, 5, 0, 3],\n",
              " [4, 4, 1, 2],\n",
              " [4, 4, 0, 4]]"
            ]
          },
          "metadata": {
            "tags": []
          },
          "execution_count": 77
        }
      ]
    },
    {
      "cell_type": "code",
      "metadata": {
        "id": "ph2evhLjfiK8",
        "colab_type": "code",
        "outputId": "9e857c1d-0817-44b7-94ba-c769028d7f33",
        "colab": {
          "base_uri": "https://localhost:8080/",
          "height": 197
        }
      },
      "source": [
        "# Rearrange each solution to be in order of oats, peanuts, cod, and eggs\n",
        "ensemble2_rearranged = []\n",
        "for solution in ensemble2:\n",
        "  ensemble2_rearranged.append([solution[1], solution[3], solution[0], solution[2]])\n",
        "ensemble2_rearranged[:10]"
      ],
      "execution_count": 0,
      "outputs": [
        {
          "output_type": "execute_result",
          "data": {
            "text/plain": [
              "[[4, 0, 5, 0],\n",
              " [2, 1, 5, 0],\n",
              " [1, 0, 5, 1],\n",
              " [1, 2, 5, 0],\n",
              " [0, 1, 5, 1],\n",
              " [5, 0, 4, 2],\n",
              " [5, 1, 4, 1],\n",
              " [5, 3, 4, 0],\n",
              " [4, 2, 4, 1],\n",
              " [4, 4, 4, 0]]"
            ]
          },
          "metadata": {
            "tags": []
          },
          "execution_count": 78
        }
      ]
    },
    {
      "cell_type": "code",
      "metadata": {
        "id": "ToRVnQs-fiR4",
        "colab_type": "code",
        "outputId": "cd7633dc-62d9-4eeb-9db6-32f592c16407",
        "colab": {
          "base_uri": "https://localhost:8080/",
          "height": 197
        }
      },
      "source": [
        "# Sort descending\n",
        "ensemble2_rearranged = sorted(ensemble2_rearranged, reverse=True)\n",
        "ensemble2_rearranged[:10]"
      ],
      "execution_count": 0,
      "outputs": [
        {
          "output_type": "execute_result",
          "data": {
            "text/plain": [
              "[[5, 5, 3, 1],\n",
              " [5, 4, 2, 4],\n",
              " [5, 3, 4, 0],\n",
              " [5, 3, 3, 2],\n",
              " [5, 3, 1, 6],\n",
              " [5, 3, 0, 7],\n",
              " [5, 2, 3, 3],\n",
              " [5, 2, 2, 5],\n",
              " [5, 2, 1, 7],\n",
              " [5, 2, 0, 9]]"
            ]
          },
          "metadata": {
            "tags": []
          },
          "execution_count": 80
        }
      ]
    },
    {
      "cell_type": "code",
      "metadata": {
        "id": "y_mFx2zrfiXc",
        "colab_type": "code",
        "outputId": "cf4156f8-fdd7-467a-b298-1a1c27c217bc",
        "colab": {
          "base_uri": "https://localhost:8080/",
          "height": 35
        }
      },
      "source": [
        "# Check if the ensembles are identical\n",
        "ensemble1 == ensemble2_rearranged"
      ],
      "execution_count": 0,
      "outputs": [
        {
          "output_type": "execute_result",
          "data": {
            "text/plain": [
              "True"
            ]
          },
          "metadata": {
            "tags": []
          },
          "execution_count": 82
        }
      ]
    },
    {
      "cell_type": "code",
      "metadata": {
        "id": "Lh17Tdxcdrty",
        "colab_type": "code",
        "colab": {}
      },
      "source": [
        ""
      ],
      "execution_count": 0,
      "outputs": []
    },
    {
      "cell_type": "code",
      "metadata": {
        "id": "t5QN52ygKh4q",
        "colab_type": "code",
        "colab": {}
      },
      "source": [
        "def check_pareto(ensemble):\n",
        "  is_pareto = [False]*len(ensemble)\n",
        "  for i, solution in enumerate(ensemble):\n",
        "    tmp = ensemble.copy()\n",
        "    tmp.remove(solution)\n",
        "    is_pareto[i] = pareto_optimal(solution, tmp)\n",
        "  return min(is_pareto)"
      ],
      "execution_count": 0,
      "outputs": []
    },
    {
      "cell_type": "code",
      "metadata": {
        "id": "gW9tOd3SNXzn",
        "colab_type": "code",
        "colab": {}
      },
      "source": [
        "check_pareto(ensemble)"
      ],
      "execution_count": 0,
      "outputs": []
    },
    {
      "cell_type": "markdown",
      "metadata": {
        "id": "Fcs4AZCpWtfW",
        "colab_type": "text"
      },
      "source": [
        "# Notes"
      ]
    },
    {
      "cell_type": "code",
      "metadata": {
        "id": "bFuKinurhT54",
        "colab_type": "code",
        "colab": {}
      },
      "source": [
        "possible_servings = np.unique(possible_servings, axis=0)"
      ],
      "execution_count": 0,
      "outputs": []
    },
    {
      "cell_type": "code",
      "metadata": {
        "id": "1LL8b5KPTOw4",
        "colab_type": "code",
        "colab": {}
      },
      "source": [
        "for i, serving in enumerate(possible_servings):\n",
        "  print('Option '+str(i+1)+':')\n",
        "  print(str(serving[0])+' servings of '+str(library_[0].name)+', '+\n",
        "        str(serving[1])+' servings of '+str(library_[1].name)+', '+\n",
        "        str(serving[2])+' servings of '+str(library_[2].name)+', and '+\n",
        "        str(serving[3])+' servings of '+str(library_[3].name))\n",
        "  print(serving[0]*library_[0]+serving[1]*library_[1]+serving[2]*library_[2]+serving[3]*library_[3])\n",
        "  print()"
      ],
      "execution_count": 0,
      "outputs": []
    },
    {
      "cell_type": "code",
      "metadata": {
        "id": "P9PVrSORYuFe",
        "colab_type": "code",
        "colab": {}
      },
      "source": [
        "# Determine first solution\n",
        "a = goal//food_library[0]\n",
        "b = (goal-a*food_library[0])//food_library[1]\n",
        "c = (goal-a*food_library[0]-b*food_library[1])//food_library[2]\n",
        "ensemble = [[a, b, c]]\n",
        "print(str(a)+' servings of '+food_library[0].name+', '+\n",
        "      str(b)+' servings of '+food_library[1].name+', and '+\n",
        "      str(c)+' servings of '+food_library[2].name)\n",
        "\n",
        "while a > 0:\n",
        "  a -= 1\n",
        "  b = (goal-a*food_library[0])//food_library[1]\n",
        "  c = (goal-a*food_library[0]-b*food_library[1])//food_library[2]\n",
        "  if pareto_optimal([a, b, c], ensemble):\n",
        "    ensemble.append([a, b, c])\n",
        "    print(str(a)+' servings of '+food_library[0].name+', '+\n",
        "          str(b)+' servings of '+food_library[1].name+', and '+\n",
        "          str(c)+' servings of '+food_library[2].name)\n",
        "  while b > 0:\n",
        "    b -= 1\n",
        "    c = (goal-a*food_library[0]-b*food_library[1])//food_library[2]\n",
        "    if pareto_optimal([a, b, c], ensemble):\n",
        "      ensemble.append([a, b, c])\n",
        "      print(str(a)+' servings of '+food_library[0].name+', '+\n",
        "            str(b)+' servings of '+food_library[1].name+', and '+\n",
        "            str(c)+' servings of '+food_library[2].name)"
      ],
      "execution_count": 0,
      "outputs": []
    }
  ]
}